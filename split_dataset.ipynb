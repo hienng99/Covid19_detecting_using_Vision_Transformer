{
  "nbformat": 4,
  "nbformat_minor": 0,
  "metadata": {
    "colab": {
      "name": "split_dataset.ipynb",
      "provenance": [],
      "collapsed_sections": [],
      "include_colab_link": true
    },
    "kernelspec": {
      "name": "python3",
      "display_name": "Python 3"
    },
    "language_info": {
      "name": "python"
    }
  },
  "cells": [
    {
      "cell_type": "markdown",
      "metadata": {
        "id": "view-in-github",
        "colab_type": "text"
      },
      "source": [
        "<a href=\"https://colab.research.google.com/github/nvhien1961999/Covid19_auto_detecting_vision_transformer_model/blob/main/split_dataset.ipynb\" target=\"_parent\"><img src=\"https://colab.research.google.com/assets/colab-badge.svg\" alt=\"Open In Colab\"/></a>"
      ]
    },
    {
      "cell_type": "code",
      "execution_count": null,
      "metadata": {
        "colab": {
          "base_uri": "https://localhost:8080/"
        },
        "id": "Pgj0s25l-qKx",
        "outputId": "b765bbfd-04fb-48ad-c188-f537de589e54"
      },
      "outputs": [
        {
          "output_type": "stream",
          "name": "stdout",
          "text": [
            "Mounted at /content/drive\n"
          ]
        }
      ],
      "source": [
        "from google.colab import drive\n",
        "drive._mount('/content/drive')"
      ]
    },
    {
      "cell_type": "code",
      "source": [
        "!pip install split-folders"
      ],
      "metadata": {
        "id": "10ukir83-vh4",
        "colab": {
          "base_uri": "https://localhost:8080/"
        },
        "outputId": "d25cf55e-d918-4dfa-bc52-b211dcc3bc57"
      },
      "execution_count": null,
      "outputs": [
        {
          "output_type": "stream",
          "name": "stdout",
          "text": [
            "Collecting split-folders\n",
            "  Downloading split_folders-0.4.3-py3-none-any.whl (7.4 kB)\n",
            "Installing collected packages: split-folders\n",
            "Successfully installed split-folders-0.4.3\n"
          ]
        }
      ]
    },
    {
      "cell_type": "code",
      "source": [
        "import splitfolders"
      ],
      "metadata": {
        "id": "apwlMfhF-44g"
      },
      "execution_count": null,
      "outputs": []
    },
    {
      "cell_type": "code",
      "source": [
        "splitfolders.ratio(\n",
        "    input=\"/content/drive/MyDrive/dataset/Covid-19_radiography\",\n",
        "    output=\"/content/drive/MyDrive/dataset/my_dataset\",\n",
        "    seed=42,\n",
        "    ratio=(0.6, 0.2, 0.2),\n",
        ")"
      ],
      "metadata": {
        "id": "Fil6YPXy_A1C",
        "colab": {
          "base_uri": "https://localhost:8080/"
        },
        "outputId": "17b341ea-5f57-4de9-95d5-2700c9cfabb3"
      },
      "execution_count": null,
      "outputs": [
        {
          "output_type": "stream",
          "name": "stderr",
          "text": [
            "Copying files: 29054 files [25:48, 18.77 files/s]\n"
          ]
        }
      ]
    }
  ]
}